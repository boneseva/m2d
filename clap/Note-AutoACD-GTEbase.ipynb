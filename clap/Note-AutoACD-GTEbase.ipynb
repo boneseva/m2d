{
 "cells": [
  {
   "cell_type": "markdown",
   "metadata": {},
   "source": [
    "# Preparing Caption Embeddings for Auto-ACD\n",
    "\n",
    "Our implementation does not convert texts into sentence (semantic) embeddings on the fly. Instead, we convert them into embeddings in advance in an offline fashion.\n",
    "\n",
    "- Download [Auto-ACD](https://auto-acd.github.io/) train.csv as `../data/auto-acd/train.csv` in advance from the [Hugging Face](https://huggingface.co/datasets/Loie/Auto-ACD).\n",
    "- The following will create `../data/capemb_GTEbase_Audo_A_C_D.npy` using the GTE base sentence embedding encoder model."
   ]
  },
  {
   "cell_type": "code",
   "execution_count": 1,
   "metadata": {},
   "outputs": [],
   "source": [
    "import warnings; warnings.simplefilter('ignore')\n",
    "import logging; logging.basicConfig(level=logging.INFO)\n",
    "import numpy as np\n",
    "import pandas as pd\n",
    "import torch"
   ]
  },
  {
   "cell_type": "code",
   "execution_count": 2,
   "metadata": {},
   "outputs": [
    {
     "data": {
      "application/vnd.jupyter.widget-view+json": {
       "model_id": "a8df04761a0a4f87aea6336a6b49ef1b",
       "version_major": 2,
       "version_minor": 0
      },
      "text/plain": [
       "tokenizer_config.json:   0%|          | 0.00/314 [00:00<?, ?B/s]"
      ]
     },
     "metadata": {},
     "output_type": "display_data"
    },
    {
     "data": {
      "application/vnd.jupyter.widget-view+json": {
       "model_id": "bd0dc194edb744708b2bbf9a59896735",
       "version_major": 2,
       "version_minor": 0
      },
      "text/plain": [
       "vocab.txt:   0%|          | 0.00/232k [00:00<?, ?B/s]"
      ]
     },
     "metadata": {},
     "output_type": "display_data"
    },
    {
     "data": {
      "application/vnd.jupyter.widget-view+json": {
       "model_id": "d71c44d944234612ad3a40439c78f023",
       "version_major": 2,
       "version_minor": 0
      },
      "text/plain": [
       "tokenizer.json:   0%|          | 0.00/712k [00:00<?, ?B/s]"
      ]
     },
     "metadata": {},
     "output_type": "display_data"
    },
    {
     "data": {
      "application/vnd.jupyter.widget-view+json": {
       "model_id": "ade703a0022843a486db320dbc36147e",
       "version_major": 2,
       "version_minor": 0
      },
      "text/plain": [
       "special_tokens_map.json:   0%|          | 0.00/125 [00:00<?, ?B/s]"
      ]
     },
     "metadata": {},
     "output_type": "display_data"
    },
    {
     "data": {
      "application/vnd.jupyter.widget-view+json": {
       "model_id": "d33f5a5c29dd49349d7be82df399646a",
       "version_major": 2,
       "version_minor": 0
      },
      "text/plain": [
       "config.json:   0%|          | 0.00/618 [00:00<?, ?B/s]"
      ]
     },
     "metadata": {},
     "output_type": "display_data"
    },
    {
     "data": {
      "application/vnd.jupyter.widget-view+json": {
       "model_id": "38878bcfa4b94b9cbc59e0d909ae8d87",
       "version_major": 2,
       "version_minor": 0
      },
      "text/plain": [
       "model.safetensors:   0%|          | 0.00/219M [00:00<?, ?B/s]"
      ]
     },
     "metadata": {},
     "output_type": "display_data"
    },
    {
     "name": "stdout",
     "output_type": "stream",
     "text": [
      "[[69.65808868408203, 88.03551483154297, 68.79684448242188]]\n"
     ]
    }
   ],
   "source": [
    "# https://huggingface.co/thenlper/gte-base\n",
    "\n",
    "import torch.nn.functional as F\n",
    "from torch import Tensor\n",
    "from transformers import AutoTokenizer, AutoModel\n",
    "\n",
    "def average_pool(last_hidden_states: Tensor,\n",
    "                 attention_mask: Tensor) -> Tensor:\n",
    "    last_hidden = last_hidden_states.masked_fill(~attention_mask[..., None].bool(), 0.0)\n",
    "    return last_hidden.sum(dim=1) / attention_mask.sum(dim=1)[..., None]\n",
    "\n",
    "input_texts = [\n",
    "    \"what is the capital of China?\",\n",
    "    \"how to implement quick sort in python?\",\n",
    "    \"Beijing\",\n",
    "    \"sorting algorithms\"\n",
    "]\n",
    "\n",
    "tokenizer = AutoTokenizer.from_pretrained(\"thenlper/gte-base\")\n",
    "model = AutoModel.from_pretrained(\"thenlper/gte-base\")\n",
    "\n",
    "# Tokenize the input texts\n",
    "batch_dict = tokenizer(input_texts, max_length=512, padding=True, truncation=True, return_tensors='pt')\n",
    "\n",
    "outputs = model(**batch_dict)\n",
    "embeddings = average_pool(outputs.last_hidden_state, batch_dict['attention_mask'])\n",
    "\n",
    "# (Optionally) normalize embeddings\n",
    "embeddings = F.normalize(embeddings, p=2, dim=1)\n",
    "scores = (embeddings[:1] @ embeddings[1:].T) * 100\n",
    "print(scores.tolist())"
   ]
  },
  {
   "cell_type": "code",
   "execution_count": 4,
   "metadata": {},
   "outputs": [
    {
     "name": "stdout",
     "output_type": "stream",
     "text": [
      "Wrote /tmp/eval_segments.csv\n",
      "Wrote /tmp/balanced_train_segments.csv\n",
      "Wrote /tmp/unbalanced_train_segments.csv\n"
     ]
    }
   ],
   "source": [
    "import urllib.request\n",
    "\n",
    "\n",
    "def download_segment_csv():\n",
    "    EVAL_URL = 'http://storage.googleapis.com/us_audioset/youtube_corpus/v1/csv/eval_segments.csv'\n",
    "    BALANCED_TRAIN_URL = 'http://storage.googleapis.com/us_audioset/youtube_corpus/v1/csv/balanced_train_segments.csv'\n",
    "    UNBALANCED_TRAIN_URL = 'http://storage.googleapis.com/us_audioset/youtube_corpus/v1/csv/unbalanced_train_segments.csv'\n",
    "\n",
    "    for subset_url in [EVAL_URL, BALANCED_TRAIN_URL, UNBALANCED_TRAIN_URL]:\n",
    "        subset_path = '/tmp/' + Path(subset_url).name\n",
    "        if Path(subset_path).is_file():\n",
    "            continue\n",
    "        with open(subset_path, 'w') as f:\n",
    "            subset_data = urllib.request.urlopen(subset_url).read().decode()\n",
    "            f.write(subset_data)\n",
    "            print('Wrote', subset_path)\n",
    "\n",
    "\n",
    "def make_metadata(download=False):\n",
    "    # download the original metadata.\n",
    "    if download:\n",
    "        download_segment_csv()\n",
    "\n",
    "    # load label maps.\n",
    "    e_df = pd.read_csv('/tmp/eval_segments.csv', skiprows=2, sep=', ', engine='python')\n",
    "    e_df['split'] = 'eval_segments'\n",
    "    b_df = pd.read_csv('/tmp/balanced_train_segments.csv', skiprows=2, sep=', ', engine='python')\n",
    "    b_df['split'] = 'balanced_train_segments'\n",
    "    u_df = pd.read_csv('/tmp/unbalanced_train_segments.csv', skiprows=2, sep=', ', engine='python')\n",
    "    u_df['split'] = 'unbalanced_train_segments'\n",
    "    df = pd.concat([e_df, b_df, u_df])\n",
    "    df = df[['# YTID', 'positive_labels', 'split']].copy()\n",
    "    df.columns = ['ytid', 'label', 'split']\n",
    "\n",
    "    on = urllib.request.urlopen('https://raw.githubusercontent.com/audioset/ontology/master/ontology.json').read().decode()\n",
    "    on = json.loads(on)\n",
    "    id2name = {o['id']: o['name'] for o in on}\n",
    "    id2desc = {o['id']: o['description'] for o in on}\n",
    "\n",
    "    # clean labels.\n",
    "    def remove_quotations(s):\n",
    "        assert s[0] == '\"' and s[-1] == '\"'\n",
    "        return s[1:-1]\n",
    "    df.label = df.label.apply(lambda s: remove_quotations(s))\n",
    "\n",
    "    return df, id2name, id2desc\n",
    "\n",
    "\n",
    "df, id2name, id2desc = make_metadata(download=False)\n",
    "# df, id2name, id2desc = make_metadata(download=True)"
   ]
  },
  {
   "cell_type": "code",
   "execution_count": 5,
   "metadata": {},
   "outputs": [],
   "source": [
    "acd = pd.read_csv('../data/auto-acd/train.csv')\n",
    "\n",
    "#\n",
    "# Replace suggestions.\n",
    "# ex.)\n",
    "# From: 'The audio caption for the given information could be: \"A car engine idles consistently, indicating a car engine knocking, possibly in an engine room.\"'\n",
    "# To: 'A car engine idles consistently, indicating a car engine knocking, possibly in an engine room.'\n",
    "#\n",
    "\n",
    "import re\n",
    "\n",
    "def replace_could_be_as_suggested(cap):\n",
    "    '''Replace following suggestion as suggested.\n",
    "    'The audio caption for the given information could be: \"A car engine idles consistently, indicating a car engine knocking, possibly in an engine room.\"'\n",
    "    '''\n",
    "    if 'be: \"' not in cap:\n",
    "        return cap\n",
    "    return re.search('be: \"(.+)\"', cap).group(1)\n",
    "    \n",
    "acd.caption = acd.caption.apply(replace_could_be_as_suggested)\n"
   ]
  },
  {
   "cell_type": "code",
   "execution_count": 6,
   "metadata": {},
   "outputs": [
    {
     "data": {
      "text/html": [
       "<div>\n",
       "<style scoped>\n",
       "    .dataframe tbody tr th:only-of-type {\n",
       "        vertical-align: middle;\n",
       "    }\n",
       "\n",
       "    .dataframe tbody tr th {\n",
       "        vertical-align: top;\n",
       "    }\n",
       "\n",
       "    .dataframe thead th {\n",
       "        text-align: right;\n",
       "    }\n",
       "</style>\n",
       "<table border=\"1\" class=\"dataframe\">\n",
       "  <thead>\n",
       "    <tr style=\"text-align: right;\">\n",
       "      <th></th>\n",
       "      <th>youtube_id</th>\n",
       "      <th>caption</th>\n",
       "      <th>ytid</th>\n",
       "    </tr>\n",
       "  </thead>\n",
       "  <tbody>\n",
       "    <tr>\n",
       "      <th>0</th>\n",
       "      <td>oPRC3zComfA_000117</td>\n",
       "      <td>Electronic music plays as a person skillfully ...</td>\n",
       "      <td>oPRC3zComfA</td>\n",
       "    </tr>\n",
       "    <tr>\n",
       "      <th>1</th>\n",
       "      <td>cwPXoYexXrs_000311</td>\n",
       "      <td>The sound of rustling followed by digital beep...</td>\n",
       "      <td>cwPXoYexXrs</td>\n",
       "    </tr>\n",
       "    <tr>\n",
       "      <th>2</th>\n",
       "      <td>ATSbLAiKFXI_000030</td>\n",
       "      <td>Rain falls onto a hard surface as a rowboat, c...</td>\n",
       "      <td>ATSbLAiKFXI</td>\n",
       "    </tr>\n",
       "    <tr>\n",
       "      <th>3</th>\n",
       "      <td>Tdxa6DYIo-Y_000469</td>\n",
       "      <td>The clarinet plays a melodic tune accompanied ...</td>\n",
       "      <td>Tdxa6DYIo-Y</td>\n",
       "    </tr>\n",
       "    <tr>\n",
       "      <th>4</th>\n",
       "      <td>eALUwesAXys_000268</td>\n",
       "      <td>Gunshots ring out as a metallic clang echoes i...</td>\n",
       "      <td>eALUwesAXys</td>\n",
       "    </tr>\n",
       "    <tr>\n",
       "      <th>...</th>\n",
       "      <td>...</td>\n",
       "      <td>...</td>\n",
       "      <td>...</td>\n",
       "    </tr>\n",
       "    <tr>\n",
       "      <th>1921873</th>\n",
       "      <td>ioo3vA8dvZE_000192</td>\n",
       "      <td>A man and child shoot targets with guns while ...</td>\n",
       "      <td>ioo3vA8dvZE</td>\n",
       "    </tr>\n",
       "    <tr>\n",
       "      <th>1921874</th>\n",
       "      <td>TbDp9hcY-pc_000030</td>\n",
       "      <td>A dog loudly barks and scratches at a rolling ...</td>\n",
       "      <td>TbDp9hcY-pc</td>\n",
       "    </tr>\n",
       "    <tr>\n",
       "      <th>1921875</th>\n",
       "      <td>YmAJAqzo-Y_Y</td>\n",
       "      <td>A woman talks quietly in a small room while a ...</td>\n",
       "      <td>mAJAqzo-Y_Y</td>\n",
       "    </tr>\n",
       "    <tr>\n",
       "      <th>1921876</th>\n",
       "      <td>YPsERnugT1hs</td>\n",
       "      <td>A lady in a dress speaks softly on a boat whil...</td>\n",
       "      <td>PsERnugT1hs</td>\n",
       "    </tr>\n",
       "    <tr>\n",
       "      <th>1921877</th>\n",
       "      <td>YBy9kurkyNvk</td>\n",
       "      <td>You'll hear a low noise when the train arrives...</td>\n",
       "      <td>By9kurkyNvk</td>\n",
       "    </tr>\n",
       "  </tbody>\n",
       "</table>\n",
       "<p>1921878 rows × 3 columns</p>\n",
       "</div>"
      ],
      "text/plain": [
       "                 youtube_id  \\\n",
       "0        oPRC3zComfA_000117   \n",
       "1        cwPXoYexXrs_000311   \n",
       "2        ATSbLAiKFXI_000030   \n",
       "3        Tdxa6DYIo-Y_000469   \n",
       "4        eALUwesAXys_000268   \n",
       "...                     ...   \n",
       "1921873  ioo3vA8dvZE_000192   \n",
       "1921874  TbDp9hcY-pc_000030   \n",
       "1921875        YmAJAqzo-Y_Y   \n",
       "1921876        YPsERnugT1hs   \n",
       "1921877        YBy9kurkyNvk   \n",
       "\n",
       "                                                   caption         ytid  \n",
       "0        Electronic music plays as a person skillfully ...  oPRC3zComfA  \n",
       "1        The sound of rustling followed by digital beep...  cwPXoYexXrs  \n",
       "2        Rain falls onto a hard surface as a rowboat, c...  ATSbLAiKFXI  \n",
       "3        The clarinet plays a melodic tune accompanied ...  Tdxa6DYIo-Y  \n",
       "4        Gunshots ring out as a metallic clang echoes i...  eALUwesAXys  \n",
       "...                                                    ...          ...  \n",
       "1921873  A man and child shoot targets with guns while ...  ioo3vA8dvZE  \n",
       "1921874  A dog loudly barks and scratches at a rolling ...  TbDp9hcY-pc  \n",
       "1921875  A woman talks quietly in a small room while a ...  mAJAqzo-Y_Y  \n",
       "1921876  A lady in a dress speaks softly on a boat whil...  PsERnugT1hs  \n",
       "1921877  You'll hear a low noise when the train arrives...  By9kurkyNvk  \n",
       "\n",
       "[1921878 rows x 3 columns]"
      ]
     },
     "execution_count": 6,
     "metadata": {},
     "output_type": "execute_result"
    }
   ],
   "source": [
    "def autoacd_get_ytid(ytid):\n",
    "    if ytid[0] == 'Y':\n",
    "        return ytid[1:1+11]\n",
    "    return ytid[:11]\n",
    "acd['ytid'] = acd.youtube_id.apply(autoacd_get_ytid)\n",
    "acd"
   ]
  },
  {
   "cell_type": "code",
   "execution_count": 7,
   "metadata": {},
   "outputs": [
    {
     "data": {
      "text/html": [
       "<div>\n",
       "<style scoped>\n",
       "    .dataframe tbody tr th:only-of-type {\n",
       "        vertical-align: middle;\n",
       "    }\n",
       "\n",
       "    .dataframe tbody tr th {\n",
       "        vertical-align: top;\n",
       "    }\n",
       "\n",
       "    .dataframe thead th {\n",
       "        text-align: right;\n",
       "    }\n",
       "</style>\n",
       "<table border=\"1\" class=\"dataframe\">\n",
       "  <thead>\n",
       "    <tr style=\"text-align: right;\">\n",
       "      <th></th>\n",
       "      <th>ytid</th>\n",
       "      <th>label</th>\n",
       "      <th>split</th>\n",
       "      <th>caption</th>\n",
       "    </tr>\n",
       "  </thead>\n",
       "  <tbody>\n",
       "    <tr>\n",
       "      <th>0</th>\n",
       "      <td>--4gqARaEJE</td>\n",
       "      <td>/m/068hy,/m/07q6cd_,/m/0bt9lr,/m/0jbk</td>\n",
       "      <td>eval_segments</td>\n",
       "      <td>The sound of Domestic animals, pets, Squeak, D...</td>\n",
       "    </tr>\n",
       "    <tr>\n",
       "      <th>1</th>\n",
       "      <td>--BfvyPmVMo</td>\n",
       "      <td>/m/03l9g</td>\n",
       "      <td>eval_segments</td>\n",
       "      <td>The sound of Hammer.</td>\n",
       "    </tr>\n",
       "    <tr>\n",
       "      <th>2</th>\n",
       "      <td>--U7joUcTCo</td>\n",
       "      <td>/m/01b_21</td>\n",
       "      <td>eval_segments</td>\n",
       "      <td>The sound of Cough.</td>\n",
       "    </tr>\n",
       "    <tr>\n",
       "      <th>3</th>\n",
       "      <td>--i-y1v8Hy8</td>\n",
       "      <td>/m/04rlf,/m/09x0r,/t/dd00004,/t/dd00005</td>\n",
       "      <td>eval_segments</td>\n",
       "      <td>The sound of Music, Speech, Female singing, an...</td>\n",
       "    </tr>\n",
       "    <tr>\n",
       "      <th>4</th>\n",
       "      <td>-0BIyqJj9ZU</td>\n",
       "      <td>/m/07rgt08,/m/07sq110,/t/dd00001</td>\n",
       "      <td>eval_segments</td>\n",
       "      <td>The sound of Chuckle, chortle, Belly laugh, an...</td>\n",
       "    </tr>\n",
       "    <tr>\n",
       "      <th>...</th>\n",
       "      <td>...</td>\n",
       "      <td>...</td>\n",
       "      <td>...</td>\n",
       "      <td>...</td>\n",
       "    </tr>\n",
       "    <tr>\n",
       "      <th>2041784</th>\n",
       "      <td>zzyyleHsxfk</td>\n",
       "      <td>/m/05tny_,/m/068hy,/m/0bt9lr,/m/0jbk</td>\n",
       "      <td>unbalanced_train_segments</td>\n",
       "      <td>The sound of Bark, Domestic animals, pets, Dog...</td>\n",
       "    </tr>\n",
       "    <tr>\n",
       "      <th>2041785</th>\n",
       "      <td>zzz-JsGPtxQ</td>\n",
       "      <td>/m/015lz1,/m/0l14jd</td>\n",
       "      <td>unbalanced_train_segments</td>\n",
       "      <td>The sound of Singing, and Choir.</td>\n",
       "    </tr>\n",
       "    <tr>\n",
       "      <th>2041786</th>\n",
       "      <td>zzz3PZXRQ_8</td>\n",
       "      <td>/m/030rvx,/m/09x0r</td>\n",
       "      <td>unbalanced_train_segments</td>\n",
       "      <td>The sound of Buzzer, and Speech.</td>\n",
       "    </tr>\n",
       "    <tr>\n",
       "      <th>2041787</th>\n",
       "      <td>zzznDcamMpw</td>\n",
       "      <td>/m/09ddx,/m/09x0r</td>\n",
       "      <td>unbalanced_train_segments</td>\n",
       "      <td>The sound of Duck, and Speech.</td>\n",
       "    </tr>\n",
       "    <tr>\n",
       "      <th>2041788</th>\n",
       "      <td>zzztDPePp4g</td>\n",
       "      <td>/m/04rlf,/m/09x0r,/t/dd00126</td>\n",
       "      <td>unbalanced_train_segments</td>\n",
       "      <td>The sound of Music, Speech, and Inside, large ...</td>\n",
       "    </tr>\n",
       "  </tbody>\n",
       "</table>\n",
       "<p>2084320 rows × 4 columns</p>\n",
       "</div>"
      ],
      "text/plain": [
       "                ytid                                    label  \\\n",
       "0        --4gqARaEJE    /m/068hy,/m/07q6cd_,/m/0bt9lr,/m/0jbk   \n",
       "1        --BfvyPmVMo                                 /m/03l9g   \n",
       "2        --U7joUcTCo                                /m/01b_21   \n",
       "3        --i-y1v8Hy8  /m/04rlf,/m/09x0r,/t/dd00004,/t/dd00005   \n",
       "4        -0BIyqJj9ZU         /m/07rgt08,/m/07sq110,/t/dd00001   \n",
       "...              ...                                      ...   \n",
       "2041784  zzyyleHsxfk     /m/05tny_,/m/068hy,/m/0bt9lr,/m/0jbk   \n",
       "2041785  zzz-JsGPtxQ                      /m/015lz1,/m/0l14jd   \n",
       "2041786  zzz3PZXRQ_8                       /m/030rvx,/m/09x0r   \n",
       "2041787  zzznDcamMpw                        /m/09ddx,/m/09x0r   \n",
       "2041788  zzztDPePp4g             /m/04rlf,/m/09x0r,/t/dd00126   \n",
       "\n",
       "                             split  \\\n",
       "0                    eval_segments   \n",
       "1                    eval_segments   \n",
       "2                    eval_segments   \n",
       "3                    eval_segments   \n",
       "4                    eval_segments   \n",
       "...                            ...   \n",
       "2041784  unbalanced_train_segments   \n",
       "2041785  unbalanced_train_segments   \n",
       "2041786  unbalanced_train_segments   \n",
       "2041787  unbalanced_train_segments   \n",
       "2041788  unbalanced_train_segments   \n",
       "\n",
       "                                                   caption  \n",
       "0        The sound of Domestic animals, pets, Squeak, D...  \n",
       "1                                     The sound of Hammer.  \n",
       "2                                      The sound of Cough.  \n",
       "3        The sound of Music, Speech, Female singing, an...  \n",
       "4        The sound of Chuckle, chortle, Belly laugh, an...  \n",
       "...                                                    ...  \n",
       "2041784  The sound of Bark, Domestic animals, pets, Dog...  \n",
       "2041785                   The sound of Singing, and Choir.  \n",
       "2041786                   The sound of Buzzer, and Speech.  \n",
       "2041787                     The sound of Duck, and Speech.  \n",
       "2041788  The sound of Music, Speech, and Inside, large ...  \n",
       "\n",
       "[2084320 rows x 4 columns]"
      ]
     },
     "execution_count": 7,
     "metadata": {},
     "output_type": "execute_result"
    }
   ],
   "source": [
    "def convert_to_simple_caption(comma_separated_labels):\n",
    "    labels = [id2name[l] for l in comma_separated_labels.split(',')]\n",
    "    simple_caption = \"The sound of {}, and {}.\".format(\", \".join(labels[:-1]),  labels[-1]) if len(labels) > 1 else f\"The sound of {labels[0]}.\"\n",
    "    return simple_caption\n",
    "\n",
    "df['caption'] = df.label.apply(lambda s: convert_to_simple_caption(s))\n",
    "df"
   ]
  },
  {
   "cell_type": "code",
   "execution_count": 8,
   "metadata": {},
   "outputs": [],
   "source": [
    "from collections import OrderedDict\n",
    "\n",
    "acdic = OrderedDict()\n",
    "for k, v in df.reset_index()[['ytid', 'caption']].values:\n",
    "    acdic[k] = v\n",
    "\n",
    "for k, cap in acd[['ytid', 'caption']].values:\n",
    "    if k in acdic:\n",
    "        acdic[k] = cap"
   ]
  },
  {
   "cell_type": "code",
   "execution_count": 9,
   "metadata": {},
   "outputs": [
    {
     "name": "stdout",
     "output_type": "stream",
     "text": [
      "OK --4gqARaEJE --4gqARaEJE\n",
      "OK --BfvyPmVMo --BfvyPmVMo\n",
      "OK --U7joUcTCo --U7joUcTCo\n"
     ]
    }
   ],
   "source": [
    "for i, j in zip(list(acdic.keys()), list(df.ytid)):\n",
    "    if i != j:\n",
    "        print(i, j)\n",
    "    if i in ['--4gqARaEJE', '--BfvyPmVMo', '--U7joUcTCo']:\n",
    "        print('OK', i, j)"
   ]
  },
  {
   "cell_type": "code",
   "execution_count": 10,
   "metadata": {},
   "outputs": [],
   "source": [
    "df['auto_acd_on_label_caption'] = acdic.values()"
   ]
  },
  {
   "cell_type": "code",
   "execution_count": 11,
   "metadata": {},
   "outputs": [
    {
     "data": {
      "text/plain": [
       "array([['RSXUYIi95wo',\n",
       "        'The sound of Whispering, Music, Crackle, and Speech.',\n",
       "        'A woman whispers with music playing softly in the background, creating a serene atmosphere.'],\n",
       "       ['RSryuuvUfDM',\n",
       "        'The sound of Blues, Guitar, Acoustic guitar, Music, Mandolin, Musical instrument, Steel guitar, slide guitar, and Plucked string instrument.',\n",
       "        'A melodic acoustic guitar is being played with background music in a music studio.'],\n",
       "       ['RSxTBSVezfU', 'The sound of Tubular bells.',\n",
       "        'The sound of Tubular bells.'],\n",
       "       ['RT234P5SzJo',\n",
       "        'The sound of Wild animals, Walk, footsteps, Roaring cats (lions, tigers), and Animal.',\n",
       "        'Lions roar loudly amidst the rustling of leaves, indicating a wild animal encounter in their natural habitat.'],\n",
       "       ['RTDr2L_OT0M', 'The sound of Printer.',\n",
       "        'The sound of a ticking clock accompanies the rhythmic noise of a printer as it prints in an office.'],\n",
       "       ['RTGrNUWT2Sc', 'The sound of Music, Speech, and Harmonic.',\n",
       "        'The sound of Music, Speech, and Harmonic.'],\n",
       "       ['RTLvin_qGWs', 'The sound of Shatter.', 'The sound of Shatter.'],\n",
       "       ['RTQJe028VdU', 'The sound of Music, and Angry music.',\n",
       "        'The sound of Music, and Angry music.'],\n",
       "       ['RTjvyK-QhYw',\n",
       "        'The sound of Squeak, Speech, and Inside, large room or hall.',\n",
       "        'The sound of Squeak, Speech, and Inside, large room or hall.'],\n",
       "       ['RTo9vih7df0', 'The sound of Change ringing (campanology).',\n",
       "        'The sound of Change ringing (campanology).']], dtype=object)"
      ]
     },
     "execution_count": 11,
     "metadata": {},
     "output_type": "execute_result"
    }
   ],
   "source": [
    "K = 10000\n",
    "df[['ytid', 'caption', 'auto_acd_on_label_caption']][K:K+10].values"
   ]
  },
  {
   "cell_type": "code",
   "execution_count": 12,
   "metadata": {},
   "outputs": [],
   "source": [
    "df.to_csv('../data/auto_acd_on_label_caption.csv', index=None)"
   ]
  },
  {
   "cell_type": "code",
   "execution_count": 13,
   "metadata": {},
   "outputs": [],
   "source": [
    "def chunks(lst, n):\n",
    "    \"\"\"Yield successive n-sized chunks from lst.\"\"\"\n",
    "    for i in range(0, len(lst), n):\n",
    "        yield lst[i:i + n]\n",
    "\n",
    "cap_chunks = [c for c in chunks(list(df.auto_acd_on_label_caption.values), 256)]"
   ]
  },
  {
   "cell_type": "code",
   "execution_count": 21,
   "metadata": {},
   "outputs": [],
   "source": [
    "model = model.to('cuda:0')"
   ]
  },
  {
   "cell_type": "code",
   "execution_count": 30,
   "metadata": {},
   "outputs": [
    {
     "name": "stderr",
     "output_type": "stream",
     "text": [
      "100%|██████████| 8142/8142 [37:13<00:00,  3.65it/s] \n"
     ]
    }
   ],
   "source": [
    "from tqdm import tqdm\n",
    "\n",
    "emb_chunks = []\n",
    "for i, caps in enumerate(tqdm(cap_chunks)):\n",
    "    with torch.no_grad():\n",
    "        batch_dict = tokenizer(caps, max_length=512, padding=True, truncation=True, return_tensors='pt')\n",
    "        batch_dict['input_ids'] = batch_dict['input_ids'].to('cuda:0')\n",
    "        batch_dict['token_type_ids'] = batch_dict['token_type_ids'].to('cuda:0')\n",
    "        batch_dict['attention_mask'] = batch_dict['attention_mask'].to('cuda:0')\n",
    "        outputs = model(**batch_dict)\n",
    "    embeddings = average_pool(outputs.last_hidden_state, batch_dict['attention_mask']).detach().cpu()\n",
    "    emb_chunks.append(embeddings)\n"
   ]
  },
  {
   "cell_type": "code",
   "execution_count": 31,
   "metadata": {},
   "outputs": [
    {
     "data": {
      "text/plain": [
       "(2084320, 768)"
      ]
     },
     "execution_count": 31,
     "metadata": {},
     "output_type": "execute_result"
    }
   ],
   "source": [
    "embs = torch.cat(emb_chunks, dim=0).numpy().astype(np.float16)\n",
    "embs.shape"
   ]
  },
  {
   "cell_type": "code",
   "execution_count": 32,
   "metadata": {},
   "outputs": [],
   "source": [
    "embdic = {y: c for y, c in zip(df.ytid.values, embs)}\n",
    "np.save('../data/capemb_GTEbase_Audo_A_C_D.npy', embdic)"
   ]
  },
  {
   "cell_type": "code",
   "execution_count": 33,
   "metadata": {},
   "outputs": [
    {
     "data": {
      "text/plain": [
       "array([ 9.99613404e-02,  4.34343398e-01,  1.33894801e-01,  2.50875980e-01,\n",
       "        9.74929333e-01,  4.29515004e-01,  9.52278614e-01,  6.12851858e-01,\n",
       "       -3.82169485e-01, -1.05268466e+00, -2.49101609e-01,  1.67118013e-01,\n",
       "       -9.08356428e-01,  2.73141295e-01, -1.98690295e-01,  1.12705946e+00,\n",
       "        6.97766364e-01,  1.66415870e-01,  5.90664566e-01, -5.95370680e-02,\n",
       "       -5.06446719e-01, -5.86260080e-01, -2.00126931e-01,  5.48775375e-01,\n",
       "        2.73360133e-01,  3.00086532e-02,  6.87165409e-02,  6.79675281e-01,\n",
       "       -1.51699400e+00,  2.00590771e-02,  3.40286791e-01,  4.85813711e-03,\n",
       "        1.41574219e-01, -4.14322525e-01, -1.45870492e-01,  1.52382016e-01,\n",
       "        1.94605529e-01, -9.57792819e-01,  1.13982752e-01, -2.38529876e-01,\n",
       "       -2.95700312e-01, -5.99810034e-02,  3.01841736e-01,  3.30573209e-02,\n",
       "       -8.68972778e-01, -6.47516787e-01, -4.76893365e-01,  8.97218168e-01,\n",
       "       -3.44504297e-01, -1.94447771e-01, -5.41380167e-01,  4.86705780e-01,\n",
       "       -2.01902032e-01, -5.11558414e-01, -1.62331149e-01,  1.55633673e-01,\n",
       "       -3.97355556e-01, -9.64615345e-01, -3.32514465e-01, -9.05889153e-01,\n",
       "        7.38476038e-01, -4.78710830e-02,  3.31418216e-01, -6.48230255e-01,\n",
       "        1.89290449e-01,  6.90983310e-02,  3.69638920e-01,  5.99120080e-01,\n",
       "       -5.80221534e-01, -2.50721782e-01,  2.76734754e-02,  1.75315574e-01,\n",
       "       -3.89544576e-01, -5.12549639e-01,  4.58659887e-01, -1.30928648e+00,\n",
       "        6.59760237e-01,  6.36794388e-01,  6.06789052e-01,  8.55811536e-01,\n",
       "        2.72532463e-01,  1.82761386e-01,  3.03287894e-01,  6.26699328e-01,\n",
       "       -1.71409860e-01, -7.23428905e-01,  5.39974213e-01,  5.11451781e-01,\n",
       "       -6.14740729e-01,  1.04234385e+00,  2.63896674e-01, -1.15847456e+00,\n",
       "        3.41230482e-01,  1.16119874e+00, -1.66498184e-01,  1.82730723e-02,\n",
       "        6.35256469e-01, -1.01379383e+00,  2.01475590e-01,  4.02280539e-01,\n",
       "       -5.21742463e-01, -7.25203678e-02,  6.10838115e-01,  3.74871582e-01,\n",
       "       -1.59028888e+00, -1.43316165e-02, -5.05642556e-02,  9.85587090e-02,\n",
       "       -2.38704178e-02,  2.69347221e-01,  3.11771572e-01, -6.57053173e-01,\n",
       "        3.58837366e-01, -8.14776272e-02, -5.52330256e-01,  1.23016286e+00,\n",
       "        6.88968122e-01, -8.35002884e-02, -1.41576305e-01,  1.02113485e-01,\n",
       "        1.13299000e+00,  2.98419029e-01, -7.61740088e-01,  1.83913898e+00,\n",
       "        4.02931839e-01, -3.31487328e-01, -4.53027904e-01,  6.63407087e-01,\n",
       "       -2.83805728e-01, -1.03657126e+00, -6.93818321e-03,  1.13675869e+00,\n",
       "       -2.34559715e-01, -3.58580858e-01, -7.61386240e-04, -4.09612149e-01,\n",
       "        4.61948335e-01, -6.07248843e-01,  2.36782968e-01,  1.47493526e-01,\n",
       "        8.59204531e-02,  5.00258446e-01, -1.13984205e-01, -2.70764858e-01,\n",
       "        8.36111069e-01, -4.93220150e-01, -8.93354058e-01, -8.76718879e-01,\n",
       "       -4.44024056e-01,  1.59655511e-01, -2.47527480e-01,  3.97831678e-01,\n",
       "        1.90559998e-01, -8.28391671e-01, -1.36765644e-01,  2.98926353e-01,\n",
       "       -3.67730916e-01, -1.14929184e-01, -2.81677753e-01, -1.93307009e-02,\n",
       "        2.53489185e-02,  2.72827864e-01, -6.65860549e-02,  2.47564003e-01,\n",
       "       -1.78806171e-01,  1.01062186e-01, -1.04073636e-01,  2.76591301e-01,\n",
       "       -1.14432001e+00,  4.07398164e-01, -9.21347857e-01,  3.78359668e-02,\n",
       "        9.59535241e-01,  1.99570343e-01, -5.12149155e-01,  2.56531298e-01,\n",
       "        1.40952694e+00,  1.31026417e-01,  7.97481060e-01,  1.48549005e-01,\n",
       "       -1.72993314e+00,  4.43982631e-01, -9.28711891e-02, -1.94197461e-01,\n",
       "        6.28253758e-01, -5.25981128e-01,  1.15600586e+00, -9.12176490e-01,\n",
       "       -7.91107640e-02,  9.83365253e-02, -9.96777713e-01, -1.14814675e+00,\n",
       "        2.59986669e-01,  1.23047560e-01,  1.23385727e+00, -6.32678092e-01,\n",
       "       -3.26731622e-01,  2.38097794e-02,  2.54057795e-01,  6.18804216e-01,\n",
       "       -4.16682623e-02, -4.17412370e-01,  7.74765790e-01, -5.93533039e-01,\n",
       "       -7.98060238e-01,  3.76719236e-01, -2.25910187e-01, -4.13841188e-01,\n",
       "        3.51036519e-01, -1.12153947e-01, -1.49678186e-01,  8.85557309e-02,\n",
       "        8.45659375e-01, -1.07839048e-01,  7.12283015e-01, -4.29236144e-01,\n",
       "        4.63995695e-01, -1.21499747e-01, -1.37995243e-01, -9.89190042e-01,\n",
       "        5.28734066e-02, -7.83762634e-02, -4.61603791e-01,  9.97806042e-02,\n",
       "        3.35814096e-02,  9.26606834e-01,  9.84264374e-01, -1.07140684e+00,\n",
       "        3.70713294e-01,  8.50991830e-02, -4.92190123e-02, -7.46896416e-02,\n",
       "        2.93685943e-01, -1.29810899e-01, -3.06330174e-01,  4.37558353e-01,\n",
       "        6.06356980e-03, -1.41297251e-01,  7.81114995e-01, -1.13387704e+00,\n",
       "       -3.91977340e-01,  9.89632010e-01,  7.43384957e-02,  6.43334806e-01,\n",
       "        1.06341653e-01, -1.76655233e-01,  4.51991707e-01, -5.56816578e-01,\n",
       "       -5.41340530e-01, -4.69808698e-01, -7.89265782e-02, -5.19582629e-01,\n",
       "        6.00736320e-01,  3.42438519e-02,  2.48755112e-01, -1.41099429e+00,\n",
       "       -7.58591443e-02,  7.79748484e-02,  1.08194470e+00,  7.54600167e-01,\n",
       "       -8.30304325e-02,  2.16431081e-01, -7.52970390e-03, -5.03276944e-01,\n",
       "       -3.85804921e-01, -1.55371881e+00, -3.03144634e-01, -2.77068079e-01,\n",
       "        3.88461709e-01, -3.75422746e-01,  9.49300766e-01,  6.59156442e-01,\n",
       "        3.41440946e-01,  5.80312908e-01,  3.79706442e-01,  1.31844386e-01,\n",
       "        1.40823114e+00, -3.44935477e-01, -3.27867270e-02, -1.17588997e+00,\n",
       "        2.03230366e-01,  9.58165228e-01, -3.74136418e-01, -9.15890276e-01,\n",
       "        1.49627671e-01, -1.37437415e+00,  1.42173797e-01, -8.34456682e-01,\n",
       "       -4.53888893e-01,  6.05692454e-02,  6.09713458e-02,  2.80329317e-01,\n",
       "       -9.16728005e-02,  1.96791649e-01, -7.63184726e-02, -3.56588095e-01,\n",
       "        1.28419042e-01,  4.19665396e-01,  1.85085043e-01, -1.11749932e-01,\n",
       "        3.71252418e-01,  4.89997625e-01,  8.99779126e-02,  1.13327026e-01,\n",
       "        1.76145986e-01, -4.72841710e-01, -3.97710711e-01, -1.43441367e+00,\n",
       "       -3.39476824e+00, -1.80530563e-01,  2.06763119e-01, -1.03754473e+00,\n",
       "        1.46692193e+00, -4.12453979e-01,  7.50738084e-01, -5.86774111e-01,\n",
       "       -9.33179557e-01,  1.46528408e-01, -1.60687387e-01, -1.36112824e-01,\n",
       "        2.14921087e-01,  7.44385123e-02,  8.58393073e-01, -1.07236278e+00,\n",
       "       -2.82767177e-01, -1.51252180e-01,  1.41262621e-01,  5.69897711e-01,\n",
       "       -2.35602885e-01, -3.29308182e-01, -1.52232246e-02,  1.08042859e-01,\n",
       "       -2.04872251e-01,  1.06264186e+00, -4.84353304e-01,  1.23817384e-01,\n",
       "       -9.10625756e-01, -5.18303514e-01,  6.07494041e-02, -3.91715676e-01,\n",
       "       -2.62896538e-01,  2.68729180e-01,  4.16459024e-01,  2.18181461e-01,\n",
       "        3.51066858e-01, -3.38172689e-02,  3.03643018e-01, -2.99154222e-01,\n",
       "        3.88551876e-02, -7.69130588e-01,  8.09672177e-02, -2.45915353e-01,\n",
       "        7.63112545e-01,  1.03836112e-01,  3.99052680e-01, -8.09732795e-01,\n",
       "       -6.46726131e-01,  1.32018328e+00, -6.55631661e-01,  8.92480835e-03,\n",
       "       -2.72285163e-01,  2.00446934e-01,  5.83316348e-02, -3.21507752e-01,\n",
       "        3.78826857e-01, -1.02725727e-02, -4.34911460e-01, -8.08607996e-01,\n",
       "        4.77889121e-01, -9.42282379e-01, -7.16865480e-01, -5.61053216e-01,\n",
       "        8.05951506e-02, -8.43955934e-01, -6.02624893e-01, -5.47221959e-01,\n",
       "        1.10698521e+00,  7.03071237e-01,  2.53706519e-02, -3.56765866e-01,\n",
       "       -3.02852452e-01, -1.28469086e+00, -1.02081954e-01, -3.87053862e-02,\n",
       "       -1.37517517e-02, -4.25395727e-01, -8.35289508e-02,  5.20286202e-01,\n",
       "       -3.42256606e-01, -1.38552591e-01,  5.60049176e-01,  3.17077130e-01,\n",
       "       -4.95265692e-01, -9.94484305e-01, -7.03166202e-02, -3.43250006e-01,\n",
       "       -9.21636641e-01, -6.60583854e-01,  1.04602706e+00, -2.70775378e-01,\n",
       "       -5.53734422e-01, -1.34228524e-02,  1.11847341e+00,  1.07737076e+00,\n",
       "        1.25900090e-01, -5.04345179e-01,  3.42264563e-01, -4.31891903e-02,\n",
       "        8.06315601e-01, -1.45486712e+00,  6.01114750e-01, -4.43553358e-01,\n",
       "        3.73162895e-01, -3.93655777e-01, -5.24508715e-01, -9.67816636e-02,\n",
       "        1.54230165e+00, -2.61919528e-01,  7.85086811e-01,  4.03146558e-02,\n",
       "        9.98107672e-01, -1.00648761e+00, -6.87272921e-02, -1.20300567e+00,\n",
       "        4.61700201e-01,  7.35604584e-01,  3.95404547e-01,  6.13446087e-02,\n",
       "        4.78597470e-02,  4.41354990e-01, -6.36657059e-01,  1.50097504e-01,\n",
       "       -1.43658268e+00,  1.59476489e-01, -9.70325917e-02, -5.08311763e-02,\n",
       "       -5.00026226e-01, -6.96065605e-01,  1.64226651e-01, -8.00277829e-01,\n",
       "        5.34552932e-01, -1.67065829e-01,  7.09050059e-01,  9.44568396e-01,\n",
       "       -7.79020667e-01, -1.16497326e+00,  3.58409196e-01, -4.73277360e-01,\n",
       "       -1.56423807e-01,  6.60382137e-02,  1.97814912e-01,  1.20918162e-01,\n",
       "        1.69461638e-01,  7.60712028e-01, -3.87998968e-01, -1.20252848e-01,\n",
       "        1.55051902e-01,  3.69097680e-01,  2.91488469e-01, -1.80525303e-01,\n",
       "        2.29555920e-01, -6.74660981e-01,  3.74842323e-02, -8.68849158e-01,\n",
       "        7.19661772e-01,  1.33098200e-01, -6.86278224e-01, -1.11416364e+00,\n",
       "       -5.59342921e-01, -4.17929947e-01, -1.56773463e-01, -1.13592939e-02,\n",
       "       -9.08014625e-02,  1.58939791e+00,  2.41673529e-01, -4.92193669e-01,\n",
       "        1.53276641e-02,  4.51837957e-01,  6.89734101e-01, -5.49006164e-01,\n",
       "       -1.11147754e-01, -4.60088253e-02, -1.32427484e-01, -3.40908021e-01,\n",
       "       -4.90970224e-01,  1.38084605e-01,  4.62732553e-01,  1.01388979e+00,\n",
       "        9.75967288e-01, -4.29286845e-02, -1.62651777e-01, -2.68803872e-02,\n",
       "        1.10918427e+00,  4.09532964e-01,  6.04753792e-02, -1.37737751e+00,\n",
       "        1.44322533e-02,  3.51791710e-01, -1.58430681e-01,  6.14432275e-01,\n",
       "       -5.05305767e-01,  1.91049099e-01, -1.49747801e+00, -1.15181637e+00,\n",
       "        7.49354899e-01,  3.71374011e-01,  1.59499779e-01, -2.54041642e-01,\n",
       "        1.41362071e-01,  3.16659361e-02, -8.26829076e-02, -3.70871603e-01,\n",
       "        1.05044983e-01, -1.67957437e+00,  8.36613357e-01, -1.39511392e-01,\n",
       "       -3.45128328e-01,  3.30776662e-01, -2.11086705e-01, -7.61997163e-01,\n",
       "       -6.60808027e-01,  4.10601348e-01,  1.39495268e-01, -7.48260617e-01,\n",
       "        5.48921674e-02, -2.58789331e-01, -2.16858070e-02, -4.58165742e-02,\n",
       "       -1.80858731e-01, -1.68113858e-01, -3.38133872e-01,  8.52949321e-02,\n",
       "       -8.13982248e-01,  3.66494417e-01, -5.18159389e-01,  5.22492349e-01,\n",
       "        9.11635578e-01, -7.91908622e-01,  4.61106628e-01,  2.06187412e-01,\n",
       "        4.64170009e-01,  9.87914026e-01,  1.67395055e-01,  4.93940026e-01,\n",
       "       -1.89130872e-01, -4.01269317e-01,  7.44998269e-03,  1.35277653e+00,\n",
       "        5.51037967e-01,  6.37409985e-01,  1.83751270e-01, -9.28384304e-01,\n",
       "       -3.32705826e-01,  4.35888648e-01, -3.46030116e-01, -2.86760658e-01,\n",
       "        1.09473400e-01,  6.54086590e-01, -1.91694677e-01, -6.57173172e-02,\n",
       "       -4.32599455e-01,  2.40707457e-01,  3.13677162e-01, -4.12212342e-01,\n",
       "       -4.78456378e-01,  1.05044079e+00, -4.14748043e-01,  3.22545946e-01,\n",
       "        2.53948748e-01,  1.67069897e-01, -3.21018137e-02,  2.76936918e-01,\n",
       "        7.51050949e-01,  1.13388084e-01, -4.75945085e-01, -2.77611315e-01,\n",
       "        6.45385504e-01,  1.98467039e-02,  6.67034313e-02, -7.92716742e-01,\n",
       "        3.06172609e-01,  2.40248814e-01,  1.25961050e-01, -7.19441473e-02,\n",
       "       -5.50703049e-01, -3.99956763e-01,  4.99799162e-01, -6.78679645e-01,\n",
       "       -1.99301064e-01,  1.94697231e-02, -7.34756470e-01, -1.90620691e-01,\n",
       "        1.02718659e-01, -8.28183651e-01,  7.02207536e-02, -5.17922044e-01,\n",
       "       -5.37881196e-01,  5.74013114e-01,  4.13682461e-01,  9.32124436e-01,\n",
       "        1.41167194e-01,  4.38626915e-01, -2.00734124e-01,  2.86435127e-01,\n",
       "        4.63086307e-01,  1.01239944e+00,  1.62178069e-01,  2.60546237e-01,\n",
       "       -1.10366142e+00,  1.13609362e+00,  6.68773592e-01, -2.41497353e-01,\n",
       "        6.62945807e-02, -1.22632474e-01, -6.19083010e-02, -1.14223456e+00,\n",
       "       -4.77503598e-01,  4.20710683e-01,  3.04344967e-02, -1.10392284e+00,\n",
       "        7.38217890e-01,  1.04895627e+00, -6.38712406e-01, -2.53084838e-01,\n",
       "        7.68409669e-01, -1.00328445e+00,  2.07579926e-01,  4.44808900e-01,\n",
       "        3.15362550e-02, -9.28108215e-01,  9.20911968e-01,  7.86806107e-01,\n",
       "        5.45097649e-01,  7.66119123e-01, -7.42589831e-01,  4.33147848e-01,\n",
       "        7.30322778e-01,  6.08791947e-01,  4.52595949e-01,  5.81230402e-01,\n",
       "       -1.78762674e-01,  1.12172937e+00, -5.32880723e-01, -1.35917783e+00,\n",
       "       -4.28874642e-02,  5.17645240e-01, -3.75286967e-01,  2.10733831e-01,\n",
       "       -9.46684182e-02,  1.33164749e-01,  3.45461607e-01,  1.11523926e+00,\n",
       "        1.82116672e-01,  1.00572214e-01,  2.29124099e-01, -5.19030511e-01,\n",
       "        8.60850871e-01,  5.41504800e-01,  5.15842974e-01,  8.55194867e-01,\n",
       "        2.10363269e-01, -9.39034879e-01,  5.42066574e-01, -2.57927179e-01,\n",
       "        3.34352434e-01,  3.91516238e-01, -7.39478648e-01,  7.69295216e-01,\n",
       "        1.91797554e-01,  7.56258488e-01,  1.30484700e+00,  1.34908080e-01,\n",
       "        1.05868101e-01,  2.11638242e-01,  5.17786443e-01, -2.46023342e-01,\n",
       "        6.45188689e-02,  3.27312469e-01,  6.65130839e-02,  6.14602566e-01,\n",
       "       -5.50431311e-01,  3.16213630e-02,  5.82055338e-02,  3.31876159e-01,\n",
       "        3.64962518e-01, -4.31054890e-01,  3.15547064e-02,  6.93343043e-01,\n",
       "        1.15730554e-01,  3.55922073e-01, -6.09611332e-01, -8.55196834e-01,\n",
       "       -2.23866314e-01, -4.96588469e-01,  4.21434566e-02,  4.46170986e-01,\n",
       "       -7.29070187e-01, -1.12653255e+00, -3.21081653e-02, -5.82447052e-01,\n",
       "        1.31671345e-02,  2.74687886e-01, -7.73035467e-01, -1.51437485e+00,\n",
       "        6.80359364e-01,  5.99019229e-01,  1.71271831e-01,  6.21935427e-01,\n",
       "        1.57420218e+00,  2.51175553e-01, -8.13208818e-01, -2.97393471e-01,\n",
       "        5.26675209e-02,  7.31953144e-01, -2.61873662e-01,  3.25702161e-01,\n",
       "       -1.32797527e+00,  9.34457719e-01,  4.58858669e-01, -2.69909352e-01,\n",
       "       -1.46822834e+00,  5.34307539e-01, -1.58560410e-01,  1.52795541e-03,\n",
       "        6.40323579e-01,  8.09842587e-01,  2.55326871e-02, -9.45018888e-01,\n",
       "       -4.75286603e-01, -2.89341211e-01, -4.89371181e-01,  7.14827001e-01,\n",
       "       -5.58215022e-01,  5.23276746e-01,  7.80406237e-01,  9.01912004e-02,\n",
       "       -8.31672788e-01,  1.11138892e+00, -5.00111103e-01,  5.92407882e-01,\n",
       "       -2.16897979e-01, -9.05414701e-01, -1.30616218e-01, -1.89173532e+00,\n",
       "       -9.87932459e-02,  1.34508222e-01,  5.65305213e-03, -1.43762016e+00,\n",
       "        4.96507138e-01, -5.47887146e-01,  2.26909369e-01, -3.27259004e-01,\n",
       "       -1.12072445e-01, -1.81104705e-01, -5.86168468e-02, -4.45468217e-01,\n",
       "       -1.25706780e+00,  7.25753009e-02,  2.28110865e-01,  2.09295787e-02,\n",
       "       -6.00646794e-01, -3.31140816e-01, -3.17111909e-01, -1.95700392e-01,\n",
       "       -1.81746840e-01,  2.69800782e-01,  4.21908200e-01, -5.37342072e-01],\n",
       "      dtype=float32)"
      ]
     },
     "execution_count": 33,
     "metadata": {},
     "output_type": "execute_result"
    }
   ],
   "source": [
    "embs[0]"
   ]
  },
  {
   "cell_type": "code",
   "execution_count": null,
   "metadata": {},
   "outputs": [],
   "source": []
  }
 ],
 "metadata": {
  "kernelspec": {
   "display_name": "ar",
   "language": "python",
   "name": "python3"
  },
  "language_info": {
   "codemirror_mode": {
    "name": "ipython",
    "version": 3
   },
   "file_extension": ".py",
   "mimetype": "text/x-python",
   "name": "python",
   "nbconvert_exporter": "python",
   "pygments_lexer": "ipython3",
   "version": "3.8.0"
  }
 },
 "nbformat": 4,
 "nbformat_minor": 2
}
