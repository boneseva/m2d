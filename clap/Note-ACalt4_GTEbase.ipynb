{
 "cells": [
  {
   "cell_type": "markdown",
   "metadata": {},
   "source": [
    "# Preparing Caption Embeddings for AudioCaps Alternative 4 Captions (ACalt4)\n",
    "\n",
    "Our implementation does not convert texts into sentence (semantic) embeddings on the fly. Instead, we convert them into embeddings in advance in an offline fashion.\n",
    "\n",
    "- Download ACalt4 as `../data/audiocaps_alternative_4.csv` in advance from the external website DOSHISHA.\n",
    "- The following will create `../data/capemb_GTEbase_AC_BLIP_Aug.npy` using the GTE base sentence embedding encoder model."
   ]
  },
  {
   "cell_type": "code",
   "execution_count": 1,
   "metadata": {},
   "outputs": [
    {
     "name": "stderr",
     "output_type": "stream",
     "text": [
      "INFO:numexpr.utils:Note: detected 80 virtual cores but NumExpr set to maximum of 64, check \"NUMEXPR_MAX_THREADS\" environment variable.\n",
      "INFO:numexpr.utils:Note: NumExpr detected 80 cores but \"NUMEXPR_MAX_THREADS\" not set, so enforcing safe limit of 8.\n",
      "INFO:numexpr.utils:NumExpr defaulting to 8 threads.\n"
     ]
    }
   ],
   "source": [
    "import warnings; warnings.simplefilter('ignore')\n",
    "import logging; logging.basicConfig(level=logging.INFO)\n",
    "import numpy as np\n",
    "import pandas as pd\n",
    "import torch"
   ]
  },
  {
   "cell_type": "code",
   "execution_count": 2,
   "metadata": {},
   "outputs": [
    {
     "name": "stdout",
     "output_type": "stream",
     "text": [
      "[[69.65808868408203, 88.03551483154297, 68.79684448242188]]\n"
     ]
    }
   ],
   "source": [
    "# https://huggingface.co/thenlper/gte-base\n",
    "\n",
    "import torch.nn.functional as F\n",
    "from torch import Tensor\n",
    "from transformers import AutoTokenizer, AutoModel\n",
    "\n",
    "def average_pool(last_hidden_states: Tensor,\n",
    "                 attention_mask: Tensor) -> Tensor:\n",
    "    last_hidden = last_hidden_states.masked_fill(~attention_mask[..., None].bool(), 0.0)\n",
    "    return last_hidden.sum(dim=1) / attention_mask.sum(dim=1)[..., None]\n",
    "\n",
    "input_texts = [\n",
    "    \"what is the capital of China?\",\n",
    "    \"how to implement quick sort in python?\",\n",
    "    \"Beijing\",\n",
    "    \"sorting algorithms\"\n",
    "]\n",
    "\n",
    "tokenizer = AutoTokenizer.from_pretrained(\"thenlper/gte-base\")\n",
    "model = AutoModel.from_pretrained(\"thenlper/gte-base\")\n",
    "\n",
    "# Tokenize the input texts\n",
    "batch_dict = tokenizer(input_texts, max_length=512, padding=True, truncation=True, return_tensors='pt')\n",
    "\n",
    "outputs = model(**batch_dict)\n",
    "embeddings = average_pool(outputs.last_hidden_state, batch_dict['attention_mask'])\n",
    "\n",
    "# (Optionally) normalize embeddings\n",
    "embeddings = F.normalize(embeddings, p=2, dim=1)\n",
    "scores = (embeddings[:1] @ embeddings[1:].T) * 100\n",
    "print(scores.tolist())"
   ]
  },
  {
   "cell_type": "code",
   "execution_count": 3,
   "metadata": {},
   "outputs": [
    {
     "data": {
      "text/html": [
       "<div>\n",
       "<style scoped>\n",
       "    .dataframe tbody tr th:only-of-type {\n",
       "        vertical-align: middle;\n",
       "    }\n",
       "\n",
       "    .dataframe tbody tr th {\n",
       "        vertical-align: top;\n",
       "    }\n",
       "\n",
       "    .dataframe thead th {\n",
       "        text-align: right;\n",
       "    }\n",
       "</style>\n",
       "<table border=\"1\" class=\"dataframe\">\n",
       "  <thead>\n",
       "    <tr style=\"text-align: right;\">\n",
       "      <th></th>\n",
       "      <th>caption1</th>\n",
       "      <th>caption2</th>\n",
       "      <th>caption3</th>\n",
       "      <th>caption4</th>\n",
       "    </tr>\n",
       "    <tr>\n",
       "      <th>youtube_id</th>\n",
       "      <th></th>\n",
       "      <th></th>\n",
       "      <th></th>\n",
       "      <th></th>\n",
       "    </tr>\n",
       "  </thead>\n",
       "  <tbody>\n",
       "    <tr>\n",
       "      <th>---1_cCGK4M</th>\n",
       "      <td>A train is moving along the tracks with the rh...</td>\n",
       "      <td>A train swiftly moving along the tracks, accom...</td>\n",
       "      <td>A train horn blaring in the distance, blending...</td>\n",
       "      <td>The unmistakable sound of a train, with the cl...</td>\n",
       "    </tr>\n",
       "    <tr>\n",
       "      <th>---lTs1dxhU</th>\n",
       "      <td>A racing car speeding past in a virtual race</td>\n",
       "      <td>A car zooming around a track in a video game</td>\n",
       "      <td>The fast-paced sound of a car zooming along a ...</td>\n",
       "      <td>A dynamic sound of a vehicle racing on a track...</td>\n",
       "    </tr>\n",
       "    <tr>\n",
       "      <th>--0PQM4-hqg</th>\n",
       "      <td>Water flowing through a river with a gurgling ...</td>\n",
       "      <td>A waterfall cascading down with a rush of water</td>\n",
       "      <td>Gurgling water flowing through a peaceful land...</td>\n",
       "      <td>Natures symphony includes the gentle gurgling ...</td>\n",
       "    </tr>\n",
       "    <tr>\n",
       "      <th>--299m5_DdE</th>\n",
       "      <td>Excitement fills the indoor water park as chil...</td>\n",
       "      <td>The joyful sounds of children playing fill the...</td>\n",
       "      <td>Gurgling water and a waterfall fill the indoor...</td>\n",
       "      <td>The air in an indoor water park is filled with...</td>\n",
       "    </tr>\n",
       "    <tr>\n",
       "      <th>--2XRMjyizo</th>\n",
       "      <td>Bird vocalizations, with chirps and tweets, fi...</td>\n",
       "      <td>Two police officers standing in front of a map</td>\n",
       "      <td>Birds chirping and tweeting in the background</td>\n",
       "      <td>Amidst the scene of two police officers studyi...</td>\n",
       "    </tr>\n",
       "    <tr>\n",
       "      <th>...</th>\n",
       "      <td>...</td>\n",
       "      <td>...</td>\n",
       "      <td>...</td>\n",
       "      <td>...</td>\n",
       "    </tr>\n",
       "    <tr>\n",
       "      <th>zzlfP-snUeY</th>\n",
       "      <td>A bulldozer idling in a rural area</td>\n",
       "      <td>A bulldozer idles and its engine rumbles softl...</td>\n",
       "      <td>An idling engine of a vehicle in an outdoor se...</td>\n",
       "      <td>The engine of a parked bulldozer purrs quietly...</td>\n",
       "    </tr>\n",
       "    <tr>\n",
       "      <th>zzm3dwoXY8Y</th>\n",
       "      <td>Birds chirping and cooing in a natural outdoor...</td>\n",
       "      <td>Birds chirping and cooing in an outdoor setting</td>\n",
       "      <td>A soft cooing sound coming from a group of bir...</td>\n",
       "      <td>The cooing of pigeons in an outdoor environment</td>\n",
       "    </tr>\n",
       "    <tr>\n",
       "      <th>zzvWbSyZfr0</th>\n",
       "      <td>The snoring in this image is occasionally inte...</td>\n",
       "      <td>There is snoring and occasional speech coming ...</td>\n",
       "      <td>A young girl is peacefully sleeping on a bed i...</td>\n",
       "      <td>In the background, there is a gentle snoring s...</td>\n",
       "    </tr>\n",
       "    <tr>\n",
       "      <th>zzwBazlj0Oc</th>\n",
       "      <td>The soft sound of pigeons cooing in a confined...</td>\n",
       "      <td>Birds cooing softly in a confined space</td>\n",
       "      <td>Pigeons cooing softly in a confined space</td>\n",
       "      <td>Pigeons cooing softly in a small room</td>\n",
       "    </tr>\n",
       "    <tr>\n",
       "      <th>zzznDcamMpw</th>\n",
       "      <td>Ducks quacking and people speaking can be hear...</td>\n",
       "      <td>The echoes of ducks and people talking can be ...</td>\n",
       "      <td>The echoes of ducks and people talking can be ...</td>\n",
       "      <td>The echoes of ducks and people talking can be ...</td>\n",
       "    </tr>\n",
       "  </tbody>\n",
       "</table>\n",
       "<p>41785 rows × 4 columns</p>\n",
       "</div>"
      ],
      "text/plain": [
       "                                                      caption1  \\\n",
       "youtube_id                                                       \n",
       "---1_cCGK4M  A train is moving along the tracks with the rh...   \n",
       "---lTs1dxhU       A racing car speeding past in a virtual race   \n",
       "--0PQM4-hqg  Water flowing through a river with a gurgling ...   \n",
       "--299m5_DdE  Excitement fills the indoor water park as chil...   \n",
       "--2XRMjyizo  Bird vocalizations, with chirps and tweets, fi...   \n",
       "...                                                        ...   \n",
       "zzlfP-snUeY                 A bulldozer idling in a rural area   \n",
       "zzm3dwoXY8Y  Birds chirping and cooing in a natural outdoor...   \n",
       "zzvWbSyZfr0  The snoring in this image is occasionally inte...   \n",
       "zzwBazlj0Oc  The soft sound of pigeons cooing in a confined...   \n",
       "zzznDcamMpw  Ducks quacking and people speaking can be hear...   \n",
       "\n",
       "                                                      caption2  \\\n",
       "youtube_id                                                       \n",
       "---1_cCGK4M  A train swiftly moving along the tracks, accom...   \n",
       "---lTs1dxhU       A car zooming around a track in a video game   \n",
       "--0PQM4-hqg    A waterfall cascading down with a rush of water   \n",
       "--299m5_DdE  The joyful sounds of children playing fill the...   \n",
       "--2XRMjyizo     Two police officers standing in front of a map   \n",
       "...                                                        ...   \n",
       "zzlfP-snUeY  A bulldozer idles and its engine rumbles softl...   \n",
       "zzm3dwoXY8Y    Birds chirping and cooing in an outdoor setting   \n",
       "zzvWbSyZfr0  There is snoring and occasional speech coming ...   \n",
       "zzwBazlj0Oc            Birds cooing softly in a confined space   \n",
       "zzznDcamMpw  The echoes of ducks and people talking can be ...   \n",
       "\n",
       "                                                      caption3  \\\n",
       "youtube_id                                                       \n",
       "---1_cCGK4M  A train horn blaring in the distance, blending...   \n",
       "---lTs1dxhU  The fast-paced sound of a car zooming along a ...   \n",
       "--0PQM4-hqg  Gurgling water flowing through a peaceful land...   \n",
       "--299m5_DdE  Gurgling water and a waterfall fill the indoor...   \n",
       "--2XRMjyizo      Birds chirping and tweeting in the background   \n",
       "...                                                        ...   \n",
       "zzlfP-snUeY  An idling engine of a vehicle in an outdoor se...   \n",
       "zzm3dwoXY8Y  A soft cooing sound coming from a group of bir...   \n",
       "zzvWbSyZfr0  A young girl is peacefully sleeping on a bed i...   \n",
       "zzwBazlj0Oc          Pigeons cooing softly in a confined space   \n",
       "zzznDcamMpw  The echoes of ducks and people talking can be ...   \n",
       "\n",
       "                                                      caption4  \n",
       "youtube_id                                                      \n",
       "---1_cCGK4M  The unmistakable sound of a train, with the cl...  \n",
       "---lTs1dxhU  A dynamic sound of a vehicle racing on a track...  \n",
       "--0PQM4-hqg  Natures symphony includes the gentle gurgling ...  \n",
       "--299m5_DdE  The air in an indoor water park is filled with...  \n",
       "--2XRMjyizo  Amidst the scene of two police officers studyi...  \n",
       "...                                                        ...  \n",
       "zzlfP-snUeY  The engine of a parked bulldozer purrs quietly...  \n",
       "zzm3dwoXY8Y    The cooing of pigeons in an outdoor environment  \n",
       "zzvWbSyZfr0  In the background, there is a gentle snoring s...  \n",
       "zzwBazlj0Oc              Pigeons cooing softly in a small room  \n",
       "zzznDcamMpw  The echoes of ducks and people talking can be ...  \n",
       "\n",
       "[41785 rows x 4 columns]"
      ]
     },
     "execution_count": 3,
     "metadata": {},
     "output_type": "execute_result"
    }
   ],
   "source": [
    "df = pd.read_csv('../data/audiocaps_alternative_4.csv').set_index('youtube_id')\n",
    "df"
   ]
  },
  {
   "cell_type": "code",
   "execution_count": 4,
   "metadata": {},
   "outputs": [],
   "source": [
    "def chunks(lst, n):\n",
    "    \"\"\"Yield successive n-sized chunks from lst.\"\"\"\n",
    "    for i in range(0, len(lst), n):\n",
    "        yield lst[i:i + n]\n",
    "\n",
    "cap_chunks = [c for c in chunks(list(df.values), 64)]"
   ]
  },
  {
   "cell_type": "code",
   "execution_count": 5,
   "metadata": {},
   "outputs": [
    {
     "name": "stderr",
     "output_type": "stream",
     "text": [
      "100%|██████████| 653/653 [01:25<00:00,  7.62it/s]\n"
     ]
    }
   ],
   "source": [
    "from tqdm import tqdm\n",
    "\n",
    "model = model.to('cuda:0')\n",
    "\n",
    "emb_chunks = []\n",
    "for i, caps in enumerate(tqdm(cap_chunks)):\n",
    "    flat_caps = []\n",
    "    for cap4 in caps:\n",
    "        assert len(cap4) == 4  # asserts 4 captions each\n",
    "        for cap in cap4:\n",
    "            flat_caps.append(cap)\n",
    "\n",
    "    with torch.no_grad():\n",
    "        batch_dict = tokenizer(flat_caps, max_length=512, padding=True, truncation=True, return_tensors='pt')\n",
    "        batch_dict['input_ids'] = batch_dict['input_ids'].to('cuda:0')\n",
    "        batch_dict['token_type_ids'] = batch_dict['token_type_ids'].to('cuda:0')\n",
    "        batch_dict['attention_mask'] = batch_dict['attention_mask'].to('cuda:0')\n",
    "        outputs = model(**batch_dict)\n",
    "    embeddings = average_pool(outputs.last_hidden_state, batch_dict['attention_mask']).detach().cpu()\n",
    "    embeddings = embeddings.reshape(-1, 4, embeddings.shape[-1])\n",
    "    emb_chunks.append(embeddings)\n"
   ]
  },
  {
   "cell_type": "code",
   "execution_count": 6,
   "metadata": {},
   "outputs": [
    {
     "data": {
      "text/plain": [
       "(41785, 4, 768)"
      ]
     },
     "execution_count": 6,
     "metadata": {},
     "output_type": "execute_result"
    }
   ],
   "source": [
    "embs = torch.cat(emb_chunks, dim=0).numpy().astype(np.float16)\n",
    "embs.shape"
   ]
  },
  {
   "cell_type": "code",
   "execution_count": 7,
   "metadata": {},
   "outputs": [],
   "source": [
    "embdic = {y: c for y, c in zip(df.index.values, embs)}\n",
    "np.save('../data/capemb_GTEbase_AC_BLIP_Aug.npy', embdic)"
   ]
  },
  {
   "cell_type": "code",
   "execution_count": 8,
   "metadata": {},
   "outputs": [
    {
     "data": {
      "text/plain": [
       "((4, 768),\n",
       " array([[-0.1776 , -0.2524 ,  0.2241 , ...,  0.568  ,  0.501  , -0.3445 ],\n",
       "        [-0.1724 , -0.3872 ,  0.0874 , ...,  0.247  ,  0.6016 , -0.3633 ],\n",
       "        [ 0.1284 , -0.0255 ,  0.1407 , ...,  0.4292 ,  0.4458 , -0.1812 ],\n",
       "        [-0.04327, -0.3618 ,  0.4766 , ...,  0.3176 ,  0.2566 , -0.4915 ]],\n",
       "       dtype=float16))"
      ]
     },
     "execution_count": 8,
     "metadata": {},
     "output_type": "execute_result"
    }
   ],
   "source": [
    "embdic['---1_cCGK4M'].shape, embdic['---1_cCGK4M']"
   ]
  },
  {
   "cell_type": "code",
   "execution_count": null,
   "metadata": {},
   "outputs": [],
   "source": []
  }
 ],
 "metadata": {
  "kernelspec": {
   "display_name": "ar",
   "language": "python",
   "name": "python3"
  },
  "language_info": {
   "codemirror_mode": {
    "name": "ipython",
    "version": 3
   },
   "file_extension": ".py",
   "mimetype": "text/x-python",
   "name": "python",
   "nbconvert_exporter": "python",
   "pygments_lexer": "ipython3",
   "version": "3.9.18"
  }
 },
 "nbformat": 4,
 "nbformat_minor": 2
}
